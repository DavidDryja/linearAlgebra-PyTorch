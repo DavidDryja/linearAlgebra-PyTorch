{
 "cells": [
  {
   "cell_type": "code",
   "execution_count": 1,
   "id": "bd2d25db-2c92-403c-a8a3-b8a064f8014a",
   "metadata": {},
   "outputs": [],
   "source": [
    "import torch\n",
    "\n",
    "a = torch.tensor([1.2, 2.3, 6.0, 7.1])\n",
    "b = torch.tensor([2.0, 1.5, 3.36, 0.111])"
   ]
  },
  {
   "cell_type": "code",
   "execution_count": 2,
   "id": "f56c5e7d-590e-4e7b-b3cd-6c363354f26a",
   "metadata": {},
   "outputs": [
    {
     "data": {
      "text/plain": [
       "tensor([3.2000, 3.8000, 9.3600, 7.2110])"
      ]
     },
     "execution_count": 2,
     "metadata": {},
     "output_type": "execute_result"
    }
   ],
   "source": [
    "# Element-wise addition\n",
    "a + b"
   ]
  },
  {
   "cell_type": "code",
   "execution_count": 3,
   "id": "8e0cb0fc-1346-4b21-a590-15ce28b9c982",
   "metadata": {},
   "outputs": [
    {
     "data": {
      "text/plain": [
       "tensor([-0.8000,  0.8000,  2.6400,  6.9890])"
      ]
     },
     "execution_count": 3,
     "metadata": {},
     "output_type": "execute_result"
    }
   ],
   "source": [
    "# Element-wise subtraction\n",
    "a - b"
   ]
  },
  {
   "cell_type": "code",
   "execution_count": 4,
   "id": "01c61f72-ef80-4b6e-9aeb-70bfe5269d1c",
   "metadata": {},
   "outputs": [
    {
     "data": {
      "text/plain": [
       "tensor([ 2.4000,  3.4500, 20.1600,  0.7881])"
      ]
     },
     "execution_count": 4,
     "metadata": {},
     "output_type": "execute_result"
    }
   ],
   "source": [
    "# Element-wise multiplication\n",
    "a * b"
   ]
  },
  {
   "cell_type": "code",
   "execution_count": 5,
   "id": "e732ed89-b2bd-402b-851c-5e47cea90491",
   "metadata": {},
   "outputs": [
    {
     "data": {
      "text/plain": [
       "tensor([ 0.6000,  1.5333,  1.7857, 63.9640])"
      ]
     },
     "execution_count": 5,
     "metadata": {},
     "output_type": "execute_result"
    }
   ],
   "source": [
    "# Element-wise division\n",
    "a / b"
   ]
  },
  {
   "cell_type": "markdown",
   "id": "e3f88b1d-3d1b-4381-b31a-7e373c8d5b03",
   "metadata": {},
   "source": [
    "# Sigmoid"
   ]
  },
  {
   "cell_type": "code",
   "execution_count": 6,
   "id": "4f2dda41-c43a-4fe5-8767-9531f0b34844",
   "metadata": {},
   "outputs": [
    {
     "data": {
      "text/plain": [
       "tensor([0.7685, 0.9089, 0.9975, 0.9992])"
      ]
     },
     "execution_count": 6,
     "metadata": {},
     "output_type": "execute_result"
    }
   ],
   "source": [
    "torch.sigmoid(a)"
   ]
  },
  {
   "cell_type": "code",
   "execution_count": 7,
   "id": "74010005-de92-4061-ac52-5e9172ce1194",
   "metadata": {},
   "outputs": [
    {
     "data": {
      "text/plain": [
       "tensor(1.)"
      ]
     },
     "execution_count": 7,
     "metadata": {},
     "output_type": "execute_result"
    }
   ],
   "source": [
    "torch.sigmoid(torch.tensor(381))"
   ]
  },
  {
   "cell_type": "code",
   "execution_count": 8,
   "id": "93e16071-a1f7-40b8-bcf1-656f913f59af",
   "metadata": {},
   "outputs": [
    {
     "data": {
      "text/plain": [
       "tensor(0.5000)"
      ]
     },
     "execution_count": 8,
     "metadata": {},
     "output_type": "execute_result"
    }
   ],
   "source": [
    "torch.sigmoid(torch.tensor(0))"
   ]
  },
  {
   "cell_type": "code",
   "execution_count": 9,
   "id": "c3554af5-75ba-4213-88e4-86e48ab6ec67",
   "metadata": {},
   "outputs": [
    {
     "data": {
      "text/plain": [
       "tensor(0.3989)"
      ]
     },
     "execution_count": 9,
     "metadata": {},
     "output_type": "execute_result"
    }
   ],
   "source": [
    "torch.sigmoid(torch.tensor(-0.41))"
   ]
  },
  {
   "cell_type": "markdown",
   "id": "aa2da659-2de5-4b70-8233-f3dc5f7e9336",
   "metadata": {},
   "source": [
    "# ReLU (Rectified Linear Unit)"
   ]
  },
  {
   "cell_type": "code",
   "execution_count": 10,
   "id": "299af318-2721-435c-9507-9b2beab9ea7b",
   "metadata": {},
   "outputs": [
    {
     "data": {
      "text/plain": [
       "tensor([21,  0,  0,  7])"
      ]
     },
     "execution_count": 10,
     "metadata": {},
     "output_type": "execute_result"
    }
   ],
   "source": [
    "c = torch.tensor([21, -5, 0, 7])\n",
    "torch.relu(c)"
   ]
  },
  {
   "cell_type": "markdown",
   "id": "c0228118-f346-4853-98c5-e4d48d23e9bb",
   "metadata": {},
   "source": [
    "# Dot Product"
   ]
  },
  {
   "cell_type": "code",
   "execution_count": 11,
   "id": "9d845ec7-3c76-4eeb-bd01-62776c7ba63b",
   "metadata": {},
   "outputs": [
    {
     "data": {
      "text/plain": [
       "tensor(10.)"
      ]
     },
     "execution_count": 11,
     "metadata": {},
     "output_type": "execute_result"
    }
   ],
   "source": [
    "a = torch.tensor([1.0, 3.0, 5.0, 7.0])\n",
    "b = torch.tensor([2.0, 0.5, 0.25, 0.75])\n",
    "\n",
    "torch.dot(a, b)"
   ]
  },
  {
   "cell_type": "code",
   "execution_count": null,
   "id": "44497cd6-6e97-49d7-b5ba-8f68038c4522",
   "metadata": {},
   "outputs": [],
   "source": []
  }
 ],
 "metadata": {
  "kernelspec": {
   "display_name": "Python 3 (ipykernel)",
   "language": "python",
   "name": "python3"
  },
  "language_info": {
   "codemirror_mode": {
    "name": "ipython",
    "version": 3
   },
   "file_extension": ".py",
   "mimetype": "text/x-python",
   "name": "python",
   "nbconvert_exporter": "python",
   "pygments_lexer": "ipython3",
   "version": "3.10.6"
  }
 },
 "nbformat": 4,
 "nbformat_minor": 5
}
